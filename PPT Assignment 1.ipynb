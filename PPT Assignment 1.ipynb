{
 "cells": [
  {
   "cell_type": "markdown",
   "id": "4788d2ee",
   "metadata": {},
   "source": [
    "Q1.\n",
    "\n",
    "Given an array of integers nums and an integer target, return indices of the two numbers such that they add up to target.\n",
    "\n",
    "You may assume that each input would have exactly one solution, and you may not use the same element twice.\n",
    "\n",
    "You can return the answer in any order.\n",
    "\n",
    "**Example:**\n",
    "Input: nums = [2,7,11,15], target = 9\n",
    "Output0 [0,1]\n",
    "\n",
    "**Explanation:** Because nums[0] + nums[1] == 9, we return [0, 1][\n"
   ]
  },
  {
   "cell_type": "code",
   "execution_count": 1,
   "id": "d1547d40",
   "metadata": {},
   "outputs": [
    {
     "name": "stdout",
     "output_type": "stream",
     "text": [
      "4\n",
      "[0, 1]\n"
     ]
    }
   ],
   "source": [
    "def twosum(nums, target):\n",
    "    n = len(nums)\n",
    "    print(n)\n",
    "    for i in range(n):\n",
    "        for j in range(i+1,n):\n",
    "            if nums[i]+nums[j]==target:\n",
    "                return [i,j]\n",
    "            \n",
    "            \n",
    "    return []       \n",
    "\n",
    "\n",
    "\n",
    "\n",
    "\n",
    "\n",
    "nums = [2, 7, 11, 15]\n",
    "target = 9\n",
    "result = twosum(nums, target)\n",
    "print(result)"
   ]
  },
  {
   "cell_type": "markdown",
   "id": "adf3ef17",
   "metadata": {},
   "source": [
    "# Q2.\n",
    "\n",
    "Given an integer array nums and an integer val, remove all occurrences of val in nums in-place. The order of the elements may be changed. Then return the number of elements in nums which are not equal to val.\n",
    "\n",
    "Consider the number of elements in nums which are not equal to val be k, to get accepted, you need to do the following things:\n",
    "\n",
    "- Change the array nums such that the first k elements of nums contain the elements which are not equal to val. The remaining elements of nums are not important as well as the size of nums.\n",
    "- Return k.\n",
    "\n",
    "Example :\n",
    "Input: nums = [3,2,2,3], val = 3\n",
    "Output: 2, nums = [2,2,_*,_*]\n",
    "\n",
    "Explanation: Your function should return k = 2, with the first two elements of nums being 2. It does not matter what you leave beyond the returned k (hence they are underscores)"
   ]
  },
  {
   "cell_type": "code",
   "execution_count": 2,
   "id": "86b72ee7",
   "metadata": {},
   "outputs": [
    {
     "name": "stdout",
     "output_type": "stream",
     "text": [
      "[2, ['_', 2, 2, '_']]\n"
     ]
    }
   ],
   "source": [
    "def removeVal(nums, val):\n",
    "    numd = [num for num in nums if num != val]\n",
    "    n = len(nums)\n",
    "    for i in range(n):\n",
    "        if nums[i]==val:\n",
    "            nums[i]='_'\n",
    "    return [len(numd),nums]\n",
    "\n",
    "nums = [3, 2, 2, 3]\n",
    "val = 3\n",
    "result = removeVal(nums, val)\n",
    "print(result)\n"
   ]
  },
  {
   "cell_type": "code",
   "execution_count": null,
   "id": "a587e302",
   "metadata": {},
   "outputs": [],
   "source": []
  },
  {
   "cell_type": "markdown",
   "id": "765c1ecd",
   "metadata": {},
   "source": [
    "Q3.\n",
    "\n",
    "Given a sorted array of distinct integers and a target value, return the index if the target is found. If not, return the index where it would be if it were inserted in order.\n",
    "\n",
    "You must write an algorithm with O(log n) runtime complexity.\n",
    "\n",
    "**Example 1:**\n",
    "Input: nums = [1,3,5,6], target = 5\n",
    "\n",
    "Output: 2\n"
   ]
  },
  {
   "cell_type": "code",
   "execution_count": 3,
   "id": "75ec82df",
   "metadata": {},
   "outputs": [
    {
     "name": "stdout",
     "output_type": "stream",
     "text": [
      "1\n"
     ]
    }
   ],
   "source": [
    "def findIndex(nums,target):\n",
    "    n = len(nums)\n",
    "    for i in range(n):\n",
    "        if nums[i]==target:\n",
    "            return i\n",
    "        else:\n",
    "            if nums[i]>target:\n",
    "                return i\n",
    "\n",
    "nums = [1,3,5,6]\n",
    "target = 2\n",
    "result = findIndex(nums,target)\n",
    "print(result)"
   ]
  },
  {
   "cell_type": "markdown",
   "id": "09e4dce9",
   "metadata": {},
   "source": [
    "Q4. You are given a large integer represented as an integer array digits, where each digits[i] is the ith digit of the integer. The digits are ordered from most significant to least significant in left-to-right order. The large integer does not contain any leading 0's.\n",
    "\n",
    "Increment the large integer by one and return the resulting array of digits.\n",
    "\n",
    "**Example 1:**\n",
    "Input: digits = [1,2,3]\n",
    "Output: [1,2,4]\n",
    "\n",
    "**Explanation:** The array represents the integer 123.\n",
    "\n",
    "Incrementing by one gives 123 + 1 = 124.\n",
    "Thus, the result should be [1,2,4].\n",
    "\n"
   ]
  },
  {
   "cell_type": "code",
   "execution_count": 4,
   "id": "8fa54692",
   "metadata": {},
   "outputs": [
    {
     "name": "stdout",
     "output_type": "stream",
     "text": [
      "[1, 0, 0, 0]\n"
     ]
    }
   ],
   "source": [
    "def OneIncrement(digits):\n",
    "    n = len(digits)\n",
    "    for i in range(n-1,-1,-1):\n",
    "        if(digits[i]!=9):\n",
    "            digits[i]=digits[i]+1\n",
    "            break\n",
    "        else:\n",
    "            digits[i]=0\n",
    "    if(digits[i]==0):\n",
    "        digits.insert(0, 1)\n",
    "    return digits\n",
    "\n",
    "\n",
    "\n",
    "digits = [9,9,9]\n",
    "results = OneIncrement(digits)\n",
    "print(results)"
   ]
  },
  {
   "cell_type": "markdown",
   "id": "6b01ef91",
   "metadata": {},
   "source": [
    "## 5) you are given two integer arrays nums1 and nums2, sorted in non-decreasing order, and two integers m and n, representing the number of elements in nums1 and nums2 respectively.\n",
    "\n",
    "Merge nums1 and nums2 into a single array sorted in non-decreasing order.\n",
    "\n",
    "The final sorted array should not be returned by the function, but instead be stored inside the array nums1. To accommodate this, nums1 has a length of m + n, where the first m elements denote the elements that should be merged, and the last n elements are set to 0 and should be ignored. nums2 has a length of n.\n",
    "\n",
    "**Example 1:**\n",
    "Input: nums1 = [1,2,3,0,0,0], m = 3, nums2 = [2,5,6], n = 3\n",
    "Output: [1,2,2,3,5,6]\n",
    "\n",
    "**Explanation:** The arrays we are merging are [1,2,3] and [2,5,6].\n",
    "The result of the merge is [1,2,2,3,5,6] with the underlined elements coming from nums1\n"
   ]
  },
  {
   "cell_type": "code",
   "execution_count": 5,
   "id": "8f4383a6",
   "metadata": {},
   "outputs": [
    {
     "name": "stdout",
     "output_type": "stream",
     "text": [
      "[1, 2, 2, 3, 5, 6]\n"
     ]
    }
   ],
   "source": [
    "def MergeTwoArray(nums1,nums2,m,n):\n",
    "    L1 = len(nums1)\n",
    "    L2 = len(nums2)\n",
    "    for i in range(L1-1,m-1,-1):\n",
    "        nums1.pop()\n",
    "    for j in range(L2-1,n-1,-1):\n",
    "        nums2.pop()\n",
    "    nums1 = nums1 + nums2\n",
    "    nums1.sort()\n",
    "    print(nums1)\n",
    "\n",
    "nums1 = [1,2,3]\n",
    "m = 3\n",
    "nums2 = [2,5,6]\n",
    "n = 3\n",
    "result = MergeTwoArray(nums1,nums2,m,n)"
   ]
  },
  {
   "cell_type": "code",
   "execution_count": 6,
   "id": "03e523f0",
   "metadata": {},
   "outputs": [
    {
     "name": "stdout",
     "output_type": "stream",
     "text": [
      "[1, 2, 2, 3, 5, 6]\n"
     ]
    }
   ],
   "source": [
    "def merge(nums1, m, nums2, n):\n",
    "    for j in range(n):\n",
    "        nums1[m+j] = nums2[j]\n",
    "    nums1.sort()\n",
    "    return nums1\n",
    "\n",
    "nums1 = [1,2,3,0,0,0]\n",
    "m = 3\n",
    "nums2 = [2,5,6]\n",
    "n = 3\n",
    "print(merge(nums1,m,nums2,n))"
   ]
  },
  {
   "cell_type": "markdown",
   "id": "362fa6ed",
   "metadata": {},
   "source": [
    "## 6) Given an integer array nums, return true if any value appears at least twice in the array, and return false if every element is distinct.\n",
    "\n",
    "**Example 1:**\n",
    "Input: nums = [1,2,3,1]\n",
    "\n",
    "Output: true"
   ]
  },
  {
   "cell_type": "code",
   "execution_count": 7,
   "id": "990e6abc",
   "metadata": {},
   "outputs": [
    {
     "name": "stdout",
     "output_type": "stream",
     "text": [
      "True\n"
     ]
    }
   ],
   "source": [
    "def Duplicate(nums):\n",
    "    new_list = set(nums)\n",
    "    if len(new_list) == len(nums):\n",
    "        return False\n",
    "    else:\n",
    "        return True\n",
    "    \n",
    "    \n",
    "nums = [1,2,3,100,99,109,99]\n",
    "print(Duplicate(nums))"
   ]
  },
  {
   "cell_type": "markdown",
   "id": "3c057017",
   "metadata": {},
   "source": [
    "##  Q7) Given an integer array nums, move all 0's to the end of it while maintaining the relative order of the nonzero elements.\n",
    "\n",
    "Note that you must do this in-place without making a copy of the array.\n",
    "\n",
    "**Example 1:**\n",
    "Input: nums = [0,1,0,3,12]\n",
    "Output: [1,3,12,0,0]\n",
    "\n",
    "</aside>"
   ]
  },
  {
   "cell_type": "code",
   "execution_count": 8,
   "id": "7fa18ad5",
   "metadata": {},
   "outputs": [
    {
     "name": "stdout",
     "output_type": "stream",
     "text": [
      "[1, 3, 12, 0, 0, 0, 0]\n"
     ]
    }
   ],
   "source": [
    "def ZerosEnd(nums):\n",
    "    n = len(nums)\n",
    "    count = 0\n",
    "    for i in range(n-1,-1,-1):\n",
    "        if nums[i]==0:\n",
    "            nums.pop(i)\n",
    "            count+=1\n",
    "    while(count>=0):\n",
    "        nums.append(0)\n",
    "        count-=1\n",
    "    return nums\n",
    "\n",
    "\n",
    "nums = [0,1,0,3,0,12]\n",
    "print(ZerosEnd(nums))"
   ]
  },
  {
   "cell_type": "code",
   "execution_count": 9,
   "id": "0dab0433",
   "metadata": {},
   "outputs": [
    {
     "name": "stdout",
     "output_type": "stream",
     "text": [
      "[1, 3, 12, 0, 0]\n"
     ]
    }
   ],
   "source": [
    "##Using two pointer approach\n",
    "\n",
    "def move_zeros(nums):\n",
    "    non_zero_index = 0\n",
    "\n",
    "    for i in range(len(nums)):\n",
    "        if nums[i] != 0:\n",
    "            nums[non_zero_index], nums[i] = nums[i], nums[non_zero_index]\n",
    "            non_zero_index += 1\n",
    "\n",
    "nums = [0, 1, 0, 3, 12]\n",
    "move_zeros(nums)\n",
    "print(nums) "
   ]
  },
  {
   "cell_type": "markdown",
   "id": "4c0f2d0f",
   "metadata": {},
   "source": [
    "## 8) You have a set of integers s, which originally contains all the numbers from 1 to n. Unfortunately, due to some error, one of the numbers in s got duplicated to another number in the set, which results in repetition of one number and loss of another number.\n",
    "\n",
    "You are given an integer array nums representing the data status of this set after the error.\n",
    "\n",
    "Find the number that occurs twice and the number that is missing and return them in the form of an array.\n",
    "\n",
    "**Example 1:**\n",
    "Input: nums = [1,2,2,4]\n",
    "Output: [2,3]\n",
    "\n",
    "</aside>"
   ]
  },
  {
   "cell_type": "code",
   "execution_count": 10,
   "id": "7aa464fc",
   "metadata": {},
   "outputs": [
    {
     "name": "stdout",
     "output_type": "stream",
     "text": [
      "(3, 4)\n"
     ]
    }
   ],
   "source": [
    "def TwiceMissing(nums):\n",
    "    for i in range(len(nums)):\n",
    "        for j in range(i+1,len(nums)):\n",
    "            if(nums[i]==nums[j]):\n",
    "                k = nums[j]+1\n",
    "                return j,k\n",
    "\n",
    "nums = [1,2,3,3,5]\n",
    "print(TwiceMissing(nums))"
   ]
  }
 ],
 "metadata": {
  "kernelspec": {
   "display_name": "Python 3 (ipykernel)",
   "language": "python",
   "name": "python3"
  },
  "language_info": {
   "codemirror_mode": {
    "name": "ipython",
    "version": 3
   },
   "file_extension": ".py",
   "mimetype": "text/x-python",
   "name": "python",
   "nbconvert_exporter": "python",
   "pygments_lexer": "ipython3",
   "version": "3.9.12"
  }
 },
 "nbformat": 4,
 "nbformat_minor": 5
}
